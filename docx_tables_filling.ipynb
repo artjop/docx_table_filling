{
 "cells": [
  {
   "cell_type": "code",
   "execution_count": null,
   "id": "477d9cf0-97af-48f8-88b1-74e2c5ce8150",
   "metadata": {},
   "outputs": [],
   "source": [
    "from docx import Document\n",
    "import datetime\n",
    "import pandas as pd\n",
    "from docx.shared import Pt, RGBColor"
   ]
  },
  {
   "cell_type": "code",
   "execution_count": null,
   "id": "c0fe179e-dcea-4a32-9ace-34acb69c13c0",
   "metadata": {},
   "outputs": [],
   "source": [
    "date = str(datetime.date.today().isoformat())\n",
    "formatted_date = datetime.datetime.strptime(date, '%Y-%m-%d').strftime('%d.%m.%Y')"
   ]
  },
  {
   "cell_type": "code",
   "execution_count": null,
   "id": "84c89532-fb39-4836-a967-1b94db24e378",
   "metadata": {},
   "outputs": [],
   "source": [
    "doc = Document('path')\n",
    "df = pd.read_csv('path')"
   ]
  },
  {
   "cell_type": "code",
   "execution_count": null,
   "id": "63f713ca-9d35-4eda-9017-011f6b69e32a",
   "metadata": {},
   "outputs": [],
   "source": [
    "def generator(doc, **kwargs):\n",
    "    '''\n",
    "    This function get an docx file, fill it with given variables and save it\n",
    "    Arguments:\n",
    "        > doc - docx.Document variable with template file\n",
    "        > **kwargs - replacement variables \n",
    "    Returns:\n",
    "    '''\n",
    "    #saving doc style\n",
    "    original_font = None\n",
    "    for table in doc.tables:\n",
    "        for row in table.rows:\n",
    "            for cell in row.cells:\n",
    "                for paragraph in cell.paragraphs:\n",
    "                    for run in paragraph.runs:\n",
    "                        original_font = run.font\n",
    "                        break\n",
    "                    if original_font:\n",
    "                        break\n",
    "                if original_font:\n",
    "                    break\n",
    "            if original_font:\n",
    "                break\n",
    "                \n",
    "    replacements = { \n",
    "        '{' + key + '}': value for key, value in kwargs.items()\n",
    "    }\n",
    " \n",
    "    \n",
    "    def replace_text_in_table(table, replacements):\n",
    "        for row in table.rows:\n",
    "            for cell in row.cells:\n",
    "                for paragraph in cell.paragraphs:\n",
    "                    for key, value in replacements.items():\n",
    "                        if key in paragraph.text:\n",
    "                            paragraph.text = paragraph.text.replace(key, value)\n",
    "        \n",
    "                    # Recursive processing of nested tables\n",
    "                    for nested_table in cell.tables:\n",
    "                        replace_text_in_table(nested_table, replacements)\n",
    "\n",
    "    for table in doc.tables:\n",
    "        replace_text_in_table(table, replacements)\n",
    "    #restoring style\n",
    "    if original_font:\n",
    "        for table in doc.tables:\n",
    "            for row in table.rows:\n",
    "                for cell in row.cells:\n",
    "                    for paragraph in cell.paragraphs:\n",
    "                        for run in paragraph.runs:\n",
    "                            if run.text and run.font:\n",
    "                                run.font.name = original_font.name\n",
    "                                run.font.size = Pt(original_font.size.pt) if original_font.size else None\n",
    "                                run.font.color.rgb = original_font.color.rgb if original_font.color else None\n",
    "                                run.font.bold = original_font.bold if original_font.bold else None\n",
    "                                run.font.italic = original_font.italic if original_font.italic else None\n",
    "                                run.font.underline = original_font.underline if original_font.underline else None\n",
    "                        break\n",
    "                    break\n",
    "                break\n",
    "    # make file name, e.g using a surname from full name value             \n",
    "    savename = name.split()[0]         \n",
    "    doc.save(f'{savename}.docx')"
   ]
  },
  {
   "cell_type": "code",
   "execution_count": null,
   "id": "38cf8a25-721e-484b-bf53-bcb205cea3a4",
   "metadata": {},
   "outputs": [],
   "source": [
    "for i, j in df.iterrows():\n",
    "    generator(doc, name= j[0], group = j[1], EP = j[2], grade = str(j[3]), date = formatted_date)\n",
    "    print(j[0], j[1], j[2], j[3], formatted_date)"
   ]
  }
 ],
 "metadata": {
  "kernelspec": {
   "display_name": "Python 3 (ipykernel)",
   "language": "python",
   "name": "python3"
  },
  "language_info": {
   "codemirror_mode": {
    "name": "ipython",
    "version": 3
   },
   "file_extension": ".py",
   "mimetype": "text/x-python",
   "name": "python",
   "nbconvert_exporter": "python",
   "pygments_lexer": "ipython3",
   "version": "3.10.5"
  }
 },
 "nbformat": 4,
 "nbformat_minor": 5
}
